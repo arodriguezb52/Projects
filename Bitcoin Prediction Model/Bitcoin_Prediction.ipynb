{
 "cells": [
  {
   "cell_type": "code",
   "execution_count": null,
   "metadata": {},
   "outputs": [],
   "source": [
    "import numpy as np\n",
    "import pandas as pd\n",
    "import matplotlib.pyplot as plt"
   ]
  },
  {
   "cell_type": "code",
   "execution_count": 45,
   "metadata": {},
   "outputs": [
    {
     "name": "stdout",
     "output_type": "stream",
     "text": [
      "            date  price  year  day  totaltx\n",
      "0  6/1/2011 0:00   9.57  2011  152     6464\n",
      "1  6/2/2011 0:00  10.60  2011  153     7632\n",
      "2  6/3/2011 0:00  14.29  2011  154     8502\n",
      "3  6/4/2011 0:00  18.89  2011  155     8766\n",
      "4  6/5/2011 0:00  16.70  2011  156     8675\n"
     ]
    }
   ],
   "source": [
    "price_data = pd.read_csv('pricedBitcoin2009-2018.csv')\n",
    "print(price_data.head())\n"
   ]
  },
  {
   "cell_type": "code",
   "execution_count": 30,
   "metadata": {},
   "outputs": [
    {
     "name": "stdout",
     "output_type": "stream",
     "text": [
      "   year  day  totaltx  1:1  1:2  1:3  1:4  1:5  1:6  1:7  ...  20:11  20:12  \\\n",
      "0  2009    3        1    1    0    0    0    0    0    0  ...      0      0   \n",
      "1  2009    8       14   14    0    0    0    0    0    0  ...      0      0   \n",
      "2  2009    9        7    7    0    0    0    0    0    0  ...      0      0   \n",
      "3  2009   10       69   69    0    0    0    0    0    0  ...      0      0   \n",
      "4  2009   11       91   90    1    0    0    0    0    0  ...      0      0   \n",
      "\n",
      "   20:13  20:14  20:15  20:16  20:17  20:18  20:19  20:20  \n",
      "0      0      0      0      0      0      0      0      0  \n",
      "1      0      0      0      0      0      0      0      0  \n",
      "2      0      0      0      0      0      0      0      0  \n",
      "3      0      0      0      0      0      0      0      0  \n",
      "4      0      0      0      0      0      0      0      0  \n",
      "\n",
      "[5 rows x 403 columns]\n"
     ]
    }
   ],
   "source": [
    "occ_chainlets = pd.read_csv('OccChainletsInTime.txt', delimiter='\\t')\n",
    "print(occ_chainlets.head())"
   ]
  },
  {
   "cell_type": "code",
   "execution_count": 37,
   "metadata": {},
   "outputs": [
    {
     "name": "stdout",
     "output_type": "stream",
     "text": [
      "   year  day       totaltx           1:1         1:2  1:3  1:4  1:5  1:6  1:7  \\\n",
      "0  2009    3    5000000000    5000000000           0    0    0    0    0    0   \n",
      "1  2009    8   70000000000   70000000000           0    0    0    0    0    0   \n",
      "2  2009    9   35000000000   35000000000           0    0    0    0    0    0   \n",
      "3  2009   10  345000000000  345000000000           0    0    0    0    0    0   \n",
      "4  2009   11  455000000000  450000000000  5000000000    0    0    0    0    0   \n",
      "\n",
      "   ...  20:11  20:12  20:13  20:14  20:15  20:16  20:17  20:18  20:19  20:20  \n",
      "0  ...      0      0      0      0      0      0      0      0      0      0  \n",
      "1  ...      0      0      0      0      0      0      0      0      0      0  \n",
      "2  ...      0      0      0      0      0      0      0      0      0      0  \n",
      "3  ...      0      0      0      0      0      0      0      0      0      0  \n",
      "4  ...      0      0      0      0      0      0      0      0      0      0  \n",
      "\n",
      "[5 rows x 403 columns]\n"
     ]
    }
   ],
   "source": [
    "amo_chainlets = pd.read_csv('AmoChainletsInTime.txt', delimiter='\\t')\n",
    "print(amo_chainlets.head())"
   ]
  },
  {
   "cell_type": "code",
   "execution_count": 66,
   "metadata": {},
   "outputs": [],
   "source": [
    "# Merge AmoChainlets with price data\n",
    "amo_combined = pd.merge(amo_chainlets, price_data, on=['year', 'day', 'totaltx'], how='inner', how='inner')\n",
    "\n",
    "# Merge OccChainlets with price data\n",
    "occ_combined = pd.merge(occ_chainlets, price_data, on=['year', 'day', 'totaltx'], how='inner')"
   ]
  },
  {
   "cell_type": "code",
   "execution_count": 69,
   "metadata": {},
   "outputs": [
    {
     "data": {
      "text/html": [
       "<div>\n",
       "<style scoped>\n",
       "    .dataframe tbody tr th:only-of-type {\n",
       "        vertical-align: middle;\n",
       "    }\n",
       "\n",
       "    .dataframe tbody tr th {\n",
       "        vertical-align: top;\n",
       "    }\n",
       "\n",
       "    .dataframe thead th {\n",
       "        text-align: right;\n",
       "    }\n",
       "</style>\n",
       "<table border=\"1\" class=\"dataframe\">\n",
       "  <thead>\n",
       "    <tr style=\"text-align: right;\">\n",
       "      <th></th>\n",
       "      <th>year</th>\n",
       "      <th>day</th>\n",
       "      <th>totaltx_x</th>\n",
       "      <th>1:1</th>\n",
       "      <th>1:2</th>\n",
       "      <th>1:3</th>\n",
       "      <th>1:4</th>\n",
       "      <th>1:5</th>\n",
       "      <th>1:6</th>\n",
       "      <th>1:7</th>\n",
       "      <th>...</th>\n",
       "      <th>20:14</th>\n",
       "      <th>20:15</th>\n",
       "      <th>20:16</th>\n",
       "      <th>20:17</th>\n",
       "      <th>20:18</th>\n",
       "      <th>20:19</th>\n",
       "      <th>20:20</th>\n",
       "      <th>date</th>\n",
       "      <th>price</th>\n",
       "      <th>totaltx_y</th>\n",
       "    </tr>\n",
       "  </thead>\n",
       "  <tbody>\n",
       "    <tr>\n",
       "      <th>0</th>\n",
       "      <td>2011</td>\n",
       "      <td>152</td>\n",
       "      <td>27829340003352</td>\n",
       "      <td>1304064101495</td>\n",
       "      <td>20614882339535</td>\n",
       "      <td>0</td>\n",
       "      <td>1877900793</td>\n",
       "      <td>0</td>\n",
       "      <td>0</td>\n",
       "      <td>0</td>\n",
       "      <td>...</td>\n",
       "      <td>0</td>\n",
       "      <td>0</td>\n",
       "      <td>0</td>\n",
       "      <td>0</td>\n",
       "      <td>0</td>\n",
       "      <td>0</td>\n",
       "      <td>0</td>\n",
       "      <td>6/1/2011 0:00</td>\n",
       "      <td>9.57</td>\n",
       "      <td>6464</td>\n",
       "    </tr>\n",
       "    <tr>\n",
       "      <th>1</th>\n",
       "      <td>2011</td>\n",
       "      <td>153</td>\n",
       "      <td>40701305784966</td>\n",
       "      <td>2011221432106</td>\n",
       "      <td>31399876711578</td>\n",
       "      <td>5000000</td>\n",
       "      <td>4477000000</td>\n",
       "      <td>0</td>\n",
       "      <td>235000000</td>\n",
       "      <td>0</td>\n",
       "      <td>...</td>\n",
       "      <td>0</td>\n",
       "      <td>0</td>\n",
       "      <td>0</td>\n",
       "      <td>0</td>\n",
       "      <td>0</td>\n",
       "      <td>0</td>\n",
       "      <td>0</td>\n",
       "      <td>6/2/2011 0:00</td>\n",
       "      <td>10.60</td>\n",
       "      <td>7632</td>\n",
       "    </tr>\n",
       "    <tr>\n",
       "      <th>2</th>\n",
       "      <td>2011</td>\n",
       "      <td>154</td>\n",
       "      <td>61989673935275</td>\n",
       "      <td>2529846575858</td>\n",
       "      <td>47290851587636</td>\n",
       "      <td>14324100000</td>\n",
       "      <td>6327174819</td>\n",
       "      <td>6519700000</td>\n",
       "      <td>5345750000</td>\n",
       "      <td>8773836723</td>\n",
       "      <td>...</td>\n",
       "      <td>0</td>\n",
       "      <td>0</td>\n",
       "      <td>0</td>\n",
       "      <td>0</td>\n",
       "      <td>0</td>\n",
       "      <td>0</td>\n",
       "      <td>0</td>\n",
       "      <td>6/3/2011 0:00</td>\n",
       "      <td>14.29</td>\n",
       "      <td>8502</td>\n",
       "    </tr>\n",
       "  </tbody>\n",
       "</table>\n",
       "<p>3 rows × 406 columns</p>\n",
       "</div>"
      ],
      "text/plain": [
       "   year  day       totaltx_x            1:1             1:2          1:3  \\\n",
       "0  2011  152  27829340003352  1304064101495  20614882339535            0   \n",
       "1  2011  153  40701305784966  2011221432106  31399876711578      5000000   \n",
       "2  2011  154  61989673935275  2529846575858  47290851587636  14324100000   \n",
       "\n",
       "          1:4         1:5         1:6         1:7  ...  20:14  20:15  20:16  \\\n",
       "0  1877900793           0           0           0  ...      0      0      0   \n",
       "1  4477000000           0   235000000           0  ...      0      0      0   \n",
       "2  6327174819  6519700000  5345750000  8773836723  ...      0      0      0   \n",
       "\n",
       "   20:17  20:18  20:19  20:20           date  price  totaltx_y  \n",
       "0      0      0      0      0  6/1/2011 0:00   9.57       6464  \n",
       "1      0      0      0      0  6/2/2011 0:00  10.60       7632  \n",
       "2      0      0      0      0  6/3/2011 0:00  14.29       8502  \n",
       "\n",
       "[3 rows x 406 columns]"
      ]
     },
     "execution_count": 69,
     "metadata": {},
     "output_type": "execute_result"
    }
   ],
   "source": [
    "amo_combined.head(3)"
   ]
  },
  {
   "cell_type": "code",
   "execution_count": 70,
   "metadata": {},
   "outputs": [
    {
     "data": {
      "text/html": [
       "<div>\n",
       "<style scoped>\n",
       "    .dataframe tbody tr th:only-of-type {\n",
       "        vertical-align: middle;\n",
       "    }\n",
       "\n",
       "    .dataframe tbody tr th {\n",
       "        vertical-align: top;\n",
       "    }\n",
       "\n",
       "    .dataframe thead th {\n",
       "        text-align: right;\n",
       "    }\n",
       "</style>\n",
       "<table border=\"1\" class=\"dataframe\">\n",
       "  <thead>\n",
       "    <tr style=\"text-align: right;\">\n",
       "      <th></th>\n",
       "      <th>year</th>\n",
       "      <th>day</th>\n",
       "      <th>totaltx</th>\n",
       "      <th>1:1</th>\n",
       "      <th>1:2</th>\n",
       "      <th>1:3</th>\n",
       "      <th>1:4</th>\n",
       "      <th>1:5</th>\n",
       "      <th>1:6</th>\n",
       "      <th>1:7</th>\n",
       "      <th>...</th>\n",
       "      <th>20:13</th>\n",
       "      <th>20:14</th>\n",
       "      <th>20:15</th>\n",
       "      <th>20:16</th>\n",
       "      <th>20:17</th>\n",
       "      <th>20:18</th>\n",
       "      <th>20:19</th>\n",
       "      <th>20:20</th>\n",
       "      <th>date</th>\n",
       "      <th>price</th>\n",
       "    </tr>\n",
       "  </thead>\n",
       "  <tbody>\n",
       "    <tr>\n",
       "      <th>0</th>\n",
       "      <td>2011</td>\n",
       "      <td>152</td>\n",
       "      <td>6464</td>\n",
       "      <td>752</td>\n",
       "      <td>4312</td>\n",
       "      <td>0</td>\n",
       "      <td>1</td>\n",
       "      <td>0</td>\n",
       "      <td>0</td>\n",
       "      <td>0</td>\n",
       "      <td>...</td>\n",
       "      <td>0</td>\n",
       "      <td>0</td>\n",
       "      <td>0</td>\n",
       "      <td>0</td>\n",
       "      <td>0</td>\n",
       "      <td>0</td>\n",
       "      <td>0</td>\n",
       "      <td>0</td>\n",
       "      <td>6/1/2011 0:00</td>\n",
       "      <td>9.57</td>\n",
       "    </tr>\n",
       "    <tr>\n",
       "      <th>1</th>\n",
       "      <td>2011</td>\n",
       "      <td>153</td>\n",
       "      <td>7632</td>\n",
       "      <td>908</td>\n",
       "      <td>5074</td>\n",
       "      <td>1</td>\n",
       "      <td>2</td>\n",
       "      <td>0</td>\n",
       "      <td>2</td>\n",
       "      <td>0</td>\n",
       "      <td>...</td>\n",
       "      <td>0</td>\n",
       "      <td>0</td>\n",
       "      <td>0</td>\n",
       "      <td>0</td>\n",
       "      <td>0</td>\n",
       "      <td>0</td>\n",
       "      <td>0</td>\n",
       "      <td>0</td>\n",
       "      <td>6/2/2011 0:00</td>\n",
       "      <td>10.60</td>\n",
       "    </tr>\n",
       "    <tr>\n",
       "      <th>2</th>\n",
       "      <td>2011</td>\n",
       "      <td>154</td>\n",
       "      <td>8502</td>\n",
       "      <td>1123</td>\n",
       "      <td>5146</td>\n",
       "      <td>4</td>\n",
       "      <td>2</td>\n",
       "      <td>6</td>\n",
       "      <td>5</td>\n",
       "      <td>7</td>\n",
       "      <td>...</td>\n",
       "      <td>0</td>\n",
       "      <td>0</td>\n",
       "      <td>0</td>\n",
       "      <td>0</td>\n",
       "      <td>0</td>\n",
       "      <td>0</td>\n",
       "      <td>0</td>\n",
       "      <td>0</td>\n",
       "      <td>6/3/2011 0:00</td>\n",
       "      <td>14.29</td>\n",
       "    </tr>\n",
       "  </tbody>\n",
       "</table>\n",
       "<p>3 rows × 405 columns</p>\n",
       "</div>"
      ],
      "text/plain": [
       "   year  day  totaltx   1:1   1:2  1:3  1:4  1:5  1:6  1:7  ...  20:13  20:14  \\\n",
       "0  2011  152     6464   752  4312    0    1    0    0    0  ...      0      0   \n",
       "1  2011  153     7632   908  5074    1    2    0    2    0  ...      0      0   \n",
       "2  2011  154     8502  1123  5146    4    2    6    5    7  ...      0      0   \n",
       "\n",
       "   20:15  20:16  20:17  20:18  20:19  20:20           date  price  \n",
       "0      0      0      0      0      0      0  6/1/2011 0:00   9.57  \n",
       "1      0      0      0      0      0      0  6/2/2011 0:00  10.60  \n",
       "2      0      0      0      0      0      0  6/3/2011 0:00  14.29  \n",
       "\n",
       "[3 rows x 405 columns]"
      ]
     },
     "execution_count": 70,
     "metadata": {},
     "output_type": "execute_result"
    }
   ],
   "source": [
    "occ_combined.head(3)"
   ]
  },
  {
   "cell_type": "code",
   "execution_count": 73,
   "metadata": {},
   "outputs": [
    {
     "name": "stdout",
     "output_type": "stream",
     "text": [
      "   year  day       totaltx_x          1:1_x           1:2_x        1:3_x  \\\n",
      "0  2011  152  27829340003352  1304064101495  20614882339535            0   \n",
      "1  2011  153  40701305784966  2011221432106  31399876711578      5000000   \n",
      "2  2011  154  61989673935275  2529846575858  47290851587636  14324100000   \n",
      "\n",
      "        1:4_x       1:5_x       1:6_x       1:7_x  ...  20:13_y  20:14_y  \\\n",
      "0  1877900793           0           0           0  ...        0        0   \n",
      "1  4477000000           0   235000000           0  ...        0        0   \n",
      "2  6327174819  6519700000  5345750000  8773836723  ...        0        0   \n",
      "\n",
      "   20:15_y  20:16_y  20:17_y  20:18_y  20:19_y  20:20_y         date_y  \\\n",
      "0        0        0        0        0        0        0  6/1/2011 0:00   \n",
      "1        0        0        0        0        0        0  6/2/2011 0:00   \n",
      "2        0        0        0        0        0        0  6/3/2011 0:00   \n",
      "\n",
      "   price_y  \n",
      "0     9.57  \n",
      "1    10.60  \n",
      "2    14.29  \n",
      "\n",
      "[3 rows x 809 columns]\n",
      "Full Combined Shape: (2404, 809)\n"
     ]
    }
   ],
   "source": [
    "# Merge Amo and Occ Combined DataFrames\n",
    "full_combined = pd.merge(amo_combined, occ_combined, on=['year', 'day'], how='inner')\n",
    "\n",
    "# Check the result\n",
    "print(full_combined.head(3))\n",
    "print(\"Full Combined Shape:\", full_combined.shape)"
   ]
  },
  {
   "cell_type": "code",
   "execution_count": 74,
   "metadata": {},
   "outputs": [
    {
     "name": "stdout",
     "output_type": "stream",
     "text": [
      "Amo Combined Shape: (2404, 406)\n",
      "Occ Combined Shape: (2404, 405)\n",
      "Full Combined Shape: (2404, 809)\n"
     ]
    }
   ],
   "source": [
    "print(f\"Amo Combined Shape: {amo_combined.shape}\")\n",
    "print(f\"Occ Combined Shape: {occ_combined.shape}\")\n",
    "print(f\"Full Combined Shape: {full_combined.shape}\")"
   ]
  },
  {
   "cell_type": "code",
   "execution_count": 75,
   "metadata": {},
   "outputs": [
    {
     "name": "stdout",
     "output_type": "stream",
     "text": [
      "   year  day  totaltx\n",
      "0  2011  152     6464\n",
      "1  2011  153     7632\n",
      "2  2011  154     8502\n",
      "3  2011  155     8766\n",
      "4  2011  156     8675\n"
     ]
    }
   ],
   "source": [
    "print(full_combined[['year', 'day', 'totaltx']].head())"
   ]
  },
  {
   "cell_type": "code",
   "execution_count": null,
   "metadata": {},
   "outputs": [],
   "source": []
  }
 ],
 "metadata": {
  "kernelspec": {
   "display_name": "Python 3",
   "language": "python",
   "name": "python3"
  },
  "language_info": {
   "codemirror_mode": {
    "name": "ipython",
    "version": 3
   },
   "file_extension": ".py",
   "mimetype": "text/x-python",
   "name": "python",
   "nbconvert_exporter": "python",
   "pygments_lexer": "ipython3",
   "version": "3.12.4"
  }
 },
 "nbformat": 4,
 "nbformat_minor": 2
}
